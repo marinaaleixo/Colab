{
  "nbformat": 4,
  "nbformat_minor": 0,
  "metadata": {
    "colab": {
      "provenance": [],
      "authorship_tag": "ABX9TyOoSxOztR1A8j905ts2B2ui",
      "include_colab_link": true
    },
    "kernelspec": {
      "name": "python3",
      "display_name": "Python 3"
    },
    "language_info": {
      "name": "python"
    }
  },
  "cells": [
    {
      "cell_type": "markdown",
      "metadata": {
        "id": "view-in-github",
        "colab_type": "text"
      },
      "source": [
        "<a href=\"https://colab.research.google.com/github/marinaaleixo/Colab/blob/main/Exerc%C3%ADcio_Oficina_Python.ipynb\" target=\"_parent\"><img src=\"https://colab.research.google.com/assets/colab-badge.svg\" alt=\"Open In Colab\"/></a>"
      ]
    },
    {
      "cell_type": "code",
      "execution_count": 13,
      "metadata": {
        "id": "jAq-x4ifczzB"
      },
      "outputs": [],
      "source": [
        "import numpy as np\n",
        "\n",
        "# 1. Classe Livro\n",
        "class Livro:\n",
        "    def __init__(self, titulo, autor):\n",
        "        self.titulo = titulo\n",
        "        self.autor = autor\n",
        "        self.disponivel = True\n",
        "\n",
        "    def emprestar(self):\n",
        "        self.disponivel = False\n",
        "\n",
        "    def status(self):\n",
        "        return \"Disponível\" if self.disponivel else \"Emprestado\""
      ]
    },
    {
      "cell_type": "code",
      "source": [
        "# 2. Criando lista de livros\n",
        "biblioteca = [\n",
        "    Livro(\"Mulheres, Raça e Classe\", \"Angela Davis\"),\n",
        "    Livro(\"Por um Feminismo Afro-Latino-Americano\", \"Lélia Gonzalez\"),\n",
        "    Livro(\"Problemas de Gênero\", \"Judith Butler\")\n",
        "]\n",
        "\n",
        "# Emprestando livros de forma interativa\n",
        "print(\"=== Sistema de Empréstimo de Livros ===\")\n",
        "for livro in biblioteca:\n",
        "    print(f\"\\nTítulo: {livro.titulo}\")\n",
        "    print(f\"Status atual: {livro.status()}\")\n",
        "\n",
        "    if livro.disponivel:\n",
        "        resposta = input(\"Deseja emprestar este livro? (s/n): \").strip().lower()\n",
        "        if resposta == 's':\n",
        "            livro.emprestar()\n",
        "            print(\"Livro emprestado com sucesso!\")\n",
        "        else:\n",
        "            print(\"Livro não emprestado.\")\n",
        "    else:\n",
        "        print(\"Este livro já está emprestado.\")\n"
      ],
      "metadata": {
        "colab": {
          "base_uri": "https://localhost:8080/"
        },
        "id": "nOpoO3_sdshK",
        "outputId": "6ec12f74-ee68-496e-a01f-509080d2efd3"
      },
      "execution_count": 22,
      "outputs": [
        {
          "output_type": "stream",
          "name": "stdout",
          "text": [
            "=== Sistema de Empréstimo de Livros ===\n",
            "\n",
            "Título: Mulheres, Raça e Classe\n",
            "Status atual: Disponível\n",
            "Deseja emprestar este livro? (s/n): n\n",
            "Livro não emprestado.\n",
            "\n",
            "Título: Por um Feminismo Afro-Latino-Americano\n",
            "Status atual: Disponível\n",
            "Deseja emprestar este livro? (s/n): \n",
            "Livro não emprestado.\n",
            "\n",
            "Título: Problemas de Gênero\n",
            "Status atual: Disponível\n",
            "Deseja emprestar este livro? (s/n): n\n",
            "Livro não emprestado.\n"
          ]
        }
      ]
    },
    {
      "cell_type": "code",
      "source": [
        "# 3. Páginas fictícias e filtro com boolean masking\n",
        "paginas = np.array([248, 376, 288])\n",
        "mask = paginas > 100\n",
        "\n",
        "print(\"\\nLivros com mais de 100 páginas:\")\n",
        "for i in range(len(biblioteca)):\n",
        "    if mask[i]:\n",
        "        print(f\"{biblioteca[i].titulo} - {paginas[i]} páginas\")"
      ],
      "metadata": {
        "colab": {
          "base_uri": "https://localhost:8080/"
        },
        "id": "8tTwya2udvDu",
        "outputId": "86cf2377-af25-4188-dc8b-82ef368e0791"
      },
      "execution_count": 18,
      "outputs": [
        {
          "output_type": "stream",
          "name": "stdout",
          "text": [
            "\n",
            "Livros com mais de 100 páginas:\n",
            "Mulheres, Raça e Classe - 248 páginas\n",
            "Por um Feminismo Afro-Latino-Americano - 376 páginas\n",
            "Problemas de Gênero - 288 páginas\n"
          ]
        }
      ]
    },
    {
      "cell_type": "code",
      "source": [
        "# 4. Anos de publicação e média\n",
        "anos = np.array([1981, 2020, 1990])\n",
        "\n",
        "print(\"\\nAno de publicação dos livros:\")\n",
        "for livro, ano in zip(biblioteca, anos):\n",
        "    print(f\"'{livro.titulo}' - {ano}\")\n",
        "\n",
        "media_anos = np.mean(anos)\n",
        "print(f\"\\nMédia dos anos de publicação: {media_anos:.2f}\")\n"
      ],
      "metadata": {
        "colab": {
          "base_uri": "https://localhost:8080/"
        },
        "id": "U5mIiVbWi0pi",
        "outputId": "7b1b6b55-a8ed-4480-c298-8117c8c2262e"
      },
      "execution_count": 20,
      "outputs": [
        {
          "output_type": "stream",
          "name": "stdout",
          "text": [
            "\n",
            "Ano de publicação dos livros:\n",
            "'Mulheres, Raça e Classe' - 1981\n",
            "'Por um Feminismo Afro-Latino-Americano' - 2020\n",
            "'Problemas de Gênero' - 1990\n",
            "\n",
            "Média dos anos de publicação: 1997.00\n"
          ]
        }
      ]
    }
  ]
}